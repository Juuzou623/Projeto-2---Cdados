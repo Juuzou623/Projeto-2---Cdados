{
 "cells": [
  {
   "cell_type": "markdown",
   "id": "826d9bf2",
   "metadata": {},
   "source": [
    "# Introdução"
   ]
  },
  {
   "cell_type": "markdown",
   "id": "70d0a5d3",
   "metadata": {},
   "source": [
    "### Tema:\n",
    "\n",
    "Consumo de alcool por estudantes.\n",
    "\n",
    "### Pergunta\n",
    "\n",
    "Dado o sexo, a idade, a educação formal da mãe e do pai, o tempo de estudo semanal, a qualidade da relação familiar e o tempo livre depois da escola, quão provável o estudante estudante irá consumir alcool durante dias úteis e durante finais de semana?\n",
    "\n",
    "### Objetivo:\n",
    "\n",
    "Prever um rótulo (target qualitativo), variando entre 5 escalas de \"pouco provável\" até \"muito provável\".\n",
    "\n",
    "### Técnica Utilizada\n",
    "\n",
    "Classificação\n",
    "\n",
    "*_Colocar aqui a justificativa para a técnica_*\n",
    "\n",
    "### Base de Dados\n",
    "\n",
    "*_Colocar aqui a descrição das colunas analisadas igual no Kaggle_*\n",
    "\n",
    "### Trabalhos Acadêmicos\n",
    "\n",
    "*_Colocar aqui publicações que relacionem dados socioeconômicos com consumo de alcool por estudantes_*"
   ]
  },
  {
   "cell_type": "markdown",
   "id": "d24fd5cd",
   "metadata": {},
   "source": [
    "### Bibliotecas utilizadas"
   ]
  },
  {
   "cell_type": "code",
   "execution_count": 3,
   "id": "2b020405",
   "metadata": {},
   "outputs": [],
   "source": [
    "import pandas as pd\n",
    "import numpy as np\n",
    "from scipy import stats"
   ]
  },
  {
   "cell_type": "markdown",
   "id": "bc030630",
   "metadata": {},
   "source": [
    "# Minerando Dados e Características do Dataset"
   ]
  },
  {
   "cell_type": "code",
   "execution_count": null,
   "id": "f3c39c4a",
   "metadata": {},
   "outputs": [],
   "source": []
  },
  {
   "cell_type": "markdown",
   "id": "5d19f19c",
   "metadata": {},
   "source": [
    "# Modelos de Predição"
   ]
  },
  {
   "cell_type": "markdown",
   "id": "9a4b0c71",
   "metadata": {},
   "source": [
    "# Processo e Estatísticas de Validação"
   ]
  },
  {
   "cell_type": "markdown",
   "id": "374fd3d7",
   "metadata": {},
   "source": [
    "# Conclusão"
   ]
  },
  {
   "cell_type": "markdown",
   "id": "e468bdbb",
   "metadata": {},
   "source": [
    "# Referências Bibliográficas"
   ]
  },
  {
   "cell_type": "code",
   "execution_count": null,
   "id": "ed317fcc",
   "metadata": {},
   "outputs": [],
   "source": []
  }
 ],
 "metadata": {
  "kernelspec": {
   "display_name": "Python 3",
   "language": "python",
   "name": "python3"
  },
  "language_info": {
   "codemirror_mode": {
    "name": "ipython",
    "version": 3
   },
   "file_extension": ".py",
   "mimetype": "text/x-python",
   "name": "python",
   "nbconvert_exporter": "python",
   "pygments_lexer": "ipython3",
   "version": "3.8.8"
  }
 },
 "nbformat": 4,
 "nbformat_minor": 5
}
