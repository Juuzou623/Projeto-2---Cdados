{
 "cells": [
  {
   "cell_type": "markdown",
   "id": "7eebfc1d",
   "metadata": {},
   "source": [
    "# Introdução"
   ]
  },
  {
   "cell_type": "markdown",
   "id": "87441d2c",
   "metadata": {},
   "source": [
    "### Tema:\n",
    "\n",
    "Consumo de alcool por estudantes.\n",
    "\n",
    "### Pergunta\n",
    "\n",
    "Dado o sexo, a idade, a educação formal da mãe e do pai, o tempo de estudo semanal, a qualidade da relação familiar e o tempo livre depois da escola, quão provável o estudante estudante irá consumir alcool durante dias úteis e durante finais de semana?\n",
    "\n",
    "### Objetivo:\n",
    "\n",
    "Prever um rótulo (target qualitativo), variando entre 5 escalas de \"pouco provável\" até \"muito provável\".\n",
    "\n",
    "### Técnica Utilizada\n",
    "\n",
    "Classificação\n",
    "\n",
    "*_Colocar aqui a justificativa para a técnica_*\n",
    "\n",
    "### Base de Dados\n",
    "\n",
    "*_Colocar aqui a descrição das colunas analisadas igual no Kaggle_*\n",
    "\n",
    "### Trabalhos Acadêmicos\n",
    "\n",
    "*_Colocar aqui publicações que relacionem dados socioeconômicos com consumo de alcool por estudantes_*"
   ]
  },
  {
   "cell_type": "markdown",
   "id": "602fb43b",
   "metadata": {},
   "source": [
    "### Bibliotecas utilizadas"
   ]
  },
  {
   "cell_type": "code",
   "execution_count": 4,
   "id": "af723f06",
   "metadata": {},
   "outputs": [],
   "source": [
    "import pandas as pd\n",
    "import numpy as np\n",
    "from scipy import stats\n",
    "import csv"
   ]
  },
  {
   "cell_type": "markdown",
   "id": "1464354b",
   "metadata": {},
   "source": [
    "# Minerando Dados e Características do Dataset"
   ]
  },
  {
   "cell_type": "code",
   "execution_count": 16,
   "id": "f46824b8",
   "metadata": {},
   "outputs": [],
   "source": [
    "student_mat_data = pd.read_csv('student-mat.csv')\n",
    "\n",
    "student_por_data = pd.read_csv('student-por.csv')\n",
    "\n",
    "### Necessário juntar em uma única base de dados, retirar colunas não utilizadas, linhas duplicadas e linhas vazias"
   ]
  },
  {
   "cell_type": "markdown",
   "id": "a2847b96",
   "metadata": {},
   "source": [
    "# Modelos de Predição"
   ]
  },
  {
   "cell_type": "markdown",
   "id": "6989b8ef",
   "metadata": {},
   "source": [
    "# Processo e Estatísticas de Validação"
   ]
  },
  {
   "cell_type": "markdown",
   "id": "4a0d0ee3",
   "metadata": {},
   "source": [
    "# Conclusão"
   ]
  },
  {
   "cell_type": "markdown",
   "id": "179fb54e",
   "metadata": {},
   "source": [
    "# Referências Bibliográficas"
   ]
  },
  {
   "cell_type": "code",
   "execution_count": null,
   "id": "85e3a5de",
   "metadata": {},
   "outputs": [],
   "source": []
  }
 ],
 "metadata": {
  "kernelspec": {
   "display_name": "Python 3",
   "language": "python",
   "name": "python3"
  },
  "language_info": {
   "codemirror_mode": {
    "name": "ipython",
    "version": 3
   },
   "file_extension": ".py",
   "mimetype": "text/x-python",
   "name": "python",
   "nbconvert_exporter": "python",
   "pygments_lexer": "ipython3",
   "version": "3.8.8"
  }
 },
 "nbformat": 4,
 "nbformat_minor": 5
}
